{
  "cells": [
    {
      "cell_type": "markdown",
      "metadata": {
        "id": "view-in-github",
        "colab_type": "text"
      },
      "source": [
        "<a href=\"https://colab.research.google.com/github/mark-bell-tna/I-CeM-workshop-2022/blob/main/Colabs/02_Structuring_I_CeM_data_for_analysis.ipynb\" target=\"_parent\"><img src=\"https://colab.research.google.com/assets/colab-badge.svg\" alt=\"Open In Colab\"/></a>"
      ]
    },
    {
      "cell_type": "markdown",
      "metadata": {
        "id": "KG1Sz9LHMxys"
      },
      "source": [
        "# Notebook outline\n",
        "\n",
        "This is the second notebook which accompanies the workshop \"Applying computational methods to census data from I-CeM\" run by The National Archives on 28th June 2022.\n",
        "\n",
        "The notebook introduces the principles of data normalisation and works through the process of splitting the I-CeM data into separate tables. A number of lookup tables are then imported to complete the process."
      ]
    },
    {
      "cell_type": "markdown",
      "metadata": {
        "id": "H_wmK2aORSyP"
      },
      "source": [
        "# Initial setup\n",
        "\n",
        "This section loads the same libraries and data loading functions as notebook 1. It then creates a set of functions which will be used for the normalisation process. They will be explained in turn as they are used so there is no need to look closely at them now.\n",
        "\n",
        "You can run the hidden cells without expanding this section."
      ]
    },
    {
      "cell_type": "code",
      "execution_count": null,
      "metadata": {
        "id": "LEzMAB6BQ6RN"
      },
      "outputs": [],
      "source": [
        "library(tidyverse)\n",
        "library(repr)\n",
        "\n",
        "options(width = 1000, dplyr.width = 1000)\n",
        "options(repr.plot.width=18, repr.plot.height=7, warn = -1, dplyr.summarise.inform = FALSE)"
      ]
    },
    {
      "cell_type": "markdown",
      "source": [
        "The following functions load census files and generate the normalised data tables. They will be explained at various points in the notebook."
      ],
      "metadata": {
        "id": "SwMeLaN3t8M2"
      }
    },
    {
      "cell_type": "code",
      "source": [
        "getExtension <- function(file){ \n",
        "    # Thanks to https://stackoverflow.com/questions/7779037/extract-file-extension-from-file-path\n",
        "    ex <- strsplit(basename(file), split=\"\\\\.\")[[1]]\n",
        "    return(ex[-1])\n",
        "} \n",
        "\n",
        "fix_header <- function(source_file, output_file) {\n",
        "\n",
        "    if (getExtension(source_file) == 'zip') {\n",
        "    SOURCE_ZIP_FILE = source_file\n",
        "    SOURCE_DATA_FILE = unzip(SOURCE_ZIP_FILE, list=TRUE)\n",
        "    SOURCE_DATA_FILE = SOURCE_DATA_FILE[1,]$Name\n",
        "    unzip(SOURCE_ZIP_FILE, SOURCE_DATA_FILE)\n",
        "    } else {\n",
        "        SOURCE_DATA_FILE = source_file\n",
        "    }\n",
        "\n",
        "    fr <- file(SOURCE_DATA_FILE,open=\"rt\") #open file connection to read\n",
        "    fw <- file(output_file, open=\"wt\") #open file connection to write \n",
        "    header_row <- readLines(fr, n=1) #read in header\n",
        "    second_row <- readLines(fr, n=1) # read the next row\n",
        "    second_row\n",
        "    header_row <- unlist(strsplit(header_row, \"|\", fixed=TRUE))\n",
        "    header_length <- length(header_row)\n",
        "    second_length <- length(unlist(strsplit(second_row, \"|\", fixed=TRUE)))\n",
        "    if (header_length != second_length) {\n",
        "        header_row <- append(header_row, 'BLANK_1', after = 84)\n",
        "        header_row <- append(header_row, 'BLANK_2', after = 85)\n",
        "        header_row <- paste0(header_row, collapse = '|') #modify header    \n",
        "        print(paste0(\"Needed to fix: \",header_row))\n",
        "    }\n",
        "    writeLines(header_row,con=fw) #write header to file\n",
        "    writeLines(second_row,con=fw) #write header to file\n",
        "    while(length(body <- readLines(fr,n=10000)) > 0) {\n",
        "    writeLines(body,fw) #pass rest of file in chunks of 10000\n",
        "    }\n",
        "\n",
        "    close(fr);close(fw) #close connections\n",
        "}"
      ],
      "metadata": {
        "id": "30-xTeQEuw7V"
      },
      "execution_count": null,
      "outputs": []
    },
    {
      "cell_type": "code",
      "source": [
        "load_census <- function(census_file, census_variables, column_code) {\n",
        "    source_data <- read_delim(census_file,delim = '|', col_names = TRUE, show_col_types = FALSE)\n",
        "    nrow(source_data)\n",
        "\n",
        "    \n",
        "    column_labels <- census_variables %>%\n",
        "    select(\"VariableName\", \"Label\",\"Coded\",\"AnonymisedVersion\") %>%\n",
        "    mutate(Coded = (Coded == \"x\"), AnonymisedVersion = (AnonymisedVersion == \"x\"))\n",
        "\n",
        "    columns_by_census <- variables %>%\n",
        "    select(\"VariableName\", EW51:SCOT01) %>%\n",
        "    pivot_longer(EW51:SCOT01, names_to = \"census_name\", values_to = \"has_variable\") %>%\n",
        "    mutate(has_variable = (has_variable == \"x\"))\n",
        "\n",
        "    selected_columns <- columns_by_census %>%\n",
        "    filter(census_name == 'EW51' & has_variable) %>%\n",
        "    left_join(column_labels, by = 'VariableName') %>%\n",
        "    filter(AnonymisedVersion) %>%\n",
        "    select(\"VariableName\", \"Label\")\n",
        "\n",
        "    code_columns <- columns_by_census %>%\n",
        "    filter(census_name == 'EW51' & has_variable) %>%\n",
        "    filter(!(VariableName %in% c(\"H_Sex\", \"Sex\"))) %>%\n",
        "    left_join(column_labels, by = 'VariableName') %>%\n",
        "    filter(AnonymisedVersion & Coded) %>%\n",
        "    select(\"VariableName\")\n",
        "\n",
        "    census_data <- source_data %>% select(all_of(str_trim(selected_columns$VariableName))) %>%\n",
        "        mutate_at(vars(str_trim(code_columns$VariableName)), as.numeric)\n",
        "\n",
        "    source_data <- NULL\n",
        "    return(census_data)\n",
        "}"
      ],
      "metadata": {
        "id": "OOIbo84BunNS"
      },
      "execution_count": null,
      "outputs": []
    },
    {
      "cell_type": "code",
      "source": [
        "get_parish_return_table <- function(census_data) {\n",
        "    parish_return <- census_data %>% \n",
        "        distinct(Year, ParID, RegCnty, RegDist, SubDist, Parish, Population, MalePop, FemalePop, ParType) %>%\n",
        "        mutate(ParType = as.integer(ParType)) %>% mutate(ParType = ifelse(is.na(ParType), 0, ParType))\n",
        "    return(parish_return)\n",
        "}\n",
        "\n",
        "get_household_table <- function(census_data) {\n",
        "    census_household <- census_data %>%\n",
        "        mutate(H_ID = paste0(Year, '_', ParID, '_', H)) %>%\n",
        "        mutate(across(c('HSS','tn_CFUs','H_CFU'), as.numeric)) %>%\n",
        "        mutate(H_Age = as.integer(H_Age), H_Age_Band = as.integer(H_Age/5) * 5) %>%\n",
        "            distinct (H_ID, Year, ParID, H, HSS, H_Sex, H_Age, H_Age_Band, H_Occ, H_CFU, tn_CFUs)\n",
        "    return(census_household)\n",
        "}\n",
        "\n",
        "get_unit_table <- function(census_data) {\n",
        "    census_cfu <- census_data %>% filter(CFU != 0) %>%\n",
        "        mutate(H_ID = paste0(Year, '_', ParID, \"_\", H), UNIT_ID = paste0(Year, '_', ParID, \"_\", H, \"_\", CFU), IS_CFU = TRUE, IS_H_CFU = (CFU == H_CFU), CFUsize = as.integer(CFUsize)) %>%\n",
        "        distinct (UNIT_ID, H_ID, Year, CFU, H_CFU, n_CFUs, CFUsize, HHD, IS_CFU, IS_H_CFU)\n",
        "    census_non_cfu <- census_data %>% filter(CFU == 0) %>%\n",
        "        mutate(H_ID = paste0(Year, '_', ParID, \"_\", H), UNIT_ID = paste0(Year, '_', ParID, \"_\", H, \"_\", CFU, \"_\", HHD), IS_CFU = FALSE, IS_H_CFU = FALSE) %>%\n",
        "        group_by (UNIT_ID, H_ID, Year, CFU, H_CFU, n_CFUs, HHD, IS_CFU, IS_H_CFU) %>% summarise(CFUsize = n())\n",
        "    census_unit <- bind_rows(census_cfu, census_non_cfu)\n",
        "    return(census_unit)\n",
        "}\n",
        "\n",
        "get_person_table <- function(census_data) {\n",
        "    census_person <- census_data %>%\n",
        "        mutate(H_ID = paste0(Year, '_', ParID, \"_\", H),\n",
        "                UNIT_ID = ifelse(CFU == 0, paste0(Year, '_', ParID, \"_\", H, \"_\", CFU, \"_\", HHD), paste0(Year, '_', ParID, \"_\", H, \"_\", CFU))) %>%\n",
        "        mutate(PersonID = paste0(H_ID, \"_\", PID), Age = as.integer(Age)) %>%\n",
        "        mutate(Age_Band = as.integer(Age/5) * 5) %>%\n",
        "        mutate(Rela = as.integer(Rela)) %>%\n",
        "        mutate(RelationGroup = as.integer(Rela / 1000) * 1000) %>%\n",
        "        mutate(relationship = Rela - RelationGroup) %>%\n",
        "        mutate(relationship = ifelse(relationship >= 200, Rela, relationship)) %>%\n",
        "        mutate(relationship = ifelse(relationship >= 500 & relationship <= 581, relationship-500, relationship)) %>%\n",
        "        select(Year, PersonID, RecID, PID, H_ID, UNIT_ID, Sex, Age, Age_Band, Cage, Cond, Mar, Relat, Rela,\n",
        "               RelationGroup, relationship, Occ, Occode, HISCO, Inactive, Disab,\n",
        "                DisCode1, DisCode2, Bpstring, BpCmty, Std_Par, \n",
        "                BpCnty, Cnti, Alt_Cnti, BpCtry, Ctry, Alt_Ctry)\n",
        "    return(census_person)\n",
        "}\n",
        "\n",
        "get_relation_table <- function(census_data) {\n",
        "    person_relation_parent <- census_data %>% \n",
        "        mutate(H_ID = paste0(Year, '_', ParID, \"_\", H)) %>%\n",
        "        mutate(PersonID = paste0(H_ID, \"_\", PID)) %>%\n",
        "        select(PersonID, Spouse, Mother, Father, H_ID) %>%\n",
        "        pivot_longer(c(\"Spouse\", \"Mother\", \"Father\"), names_to = \"relation\", values_to = \"RelID\") %>%\n",
        "        filter(RelID != 0) %>%\n",
        "        mutate(RelID = paste0(H_ID, \"_\", RelID)) %>% select(PersonID, relation, RelID)\n",
        "\n",
        "    person_relation_child <- person_relation_parent %>% filter(relation == 'Mother' | relation == 'Father') %>%\n",
        "                        mutate(NewPersonID = RelID, relation = 'Child', NewRelID = PersonID) %>%\n",
        "                        select(PersonID = NewPersonID, relation, RelID = NewRelID)\n",
        "\n",
        "    person_relation <- bind_rows(person_relation_parent, person_relation_child)\n",
        "\n",
        "    return(person_relation)\n",
        "}"
      ],
      "metadata": {
        "id": "MrCiHt4Gt6TV"
      },
      "execution_count": null,
      "outputs": []
    },
    {
      "cell_type": "code",
      "source": [
        "variable_file <- 'https://raw.githubusercontent.com/mark-bell-tna/I-CeM-workshop-2022/main/Data/census%20variable%20descriptions.csv'\n",
        "variables <- read.csv(variable_file)\n",
        "occode_file <- 'https://raw.githubusercontent.com/mark-bell-tna/I-CeM-workshop-2022/main/Data/occode_lookup.tsv'\n",
        "occode_lookup <- read.csv(occode_file, sep = '\\t')"
      ],
      "metadata": {
        "id": "a03W7nQ9anKY"
      },
      "execution_count": null,
      "outputs": []
    },
    {
      "cell_type": "markdown",
      "metadata": {
        "id": "R_YWRdLOQqH9"
      },
      "source": [
        "# Loading the data file\n",
        "\n",
        "We will follow the same steps as for the first notebook. Upload the data file to Colab and then copy and paste its path into the form below. This time the columns will be automatically reduced to the set of E&W 1851 columns."
      ]
    },
    {
      "cell_type": "code",
      "execution_count": null,
      "metadata": {
        "id": "0jQbTRKGeEYT"
      },
      "outputs": [],
      "source": [
        "#@title ...Enter source data file name { run: \"auto\", vertical-output: true, form-width: \"50%\", display-mode: \"form\" }\n",
        "\n",
        "#occode_lookup <- read_tsv('/content/occode_lookup.tsv', col_names = TRUE)\n",
        "#occode_lookup <- occode_lookup %>% mutate(Occode = as.character(Occode))\n",
        "\n",
        "SOURCE_DATA_FILE = \"/content/1851-rut-b72b4efe-e613-40f5-8ac6-6fe222f686c3.zip\" #@param {type:\"string\"}\n",
        "\n",
        "SOURCE_DATA_FILE\n",
        "\n",
        "fix_header(SOURCE_DATA_FILE, 'temporary_file.txt')\n",
        "census_data <- load_census('temporary_file.txt', variables, 'EW51')\n",
        "paste(c(\"Rows:\",nrow(census_data), \"Columns:\", ncol(census_data)), sep = \" \")"
      ]
    },
    {
      "cell_type": "markdown",
      "metadata": {
        "id": "fvBTbgM-RX4v"
      },
      "source": [
        "# Data normalisation\n",
        "\n"
      ]
    },
    {
      "cell_type": "markdown",
      "metadata": {
        "id": "6lQVoY0cvTHX"
      },
      "source": [
        "## Motivations for normalising data\n",
        "\n",
        "Normalisation is a process of cleaning and structuring data in a relational database with the following aims:\n",
        "\n",
        "\n",
        "1.   Reduce duplication\n",
        "2.   Improve data integrity\n",
        "\n"
      ]
    },
    {
      "cell_type": "markdown",
      "metadata": {
        "id": "AAvVwF9sx9mP"
      },
      "source": [
        "One motivation for reducing duplication is to save space. Another reason can be demonstrated by finding the total of the Population column. We know there are c.24000 individuals in the Rutland dataset, yet when we calculate the sum of Population we get a much larger figure."
      ]
    },
    {
      "cell_type": "code",
      "execution_count": null,
      "metadata": {
        "id": "WTGp-hf1xz6X"
      },
      "outputs": [],
      "source": [
        "census_data %>% summarise(Population = sum(Population))"
      ]
    },
    {
      "cell_type": "markdown",
      "metadata": {
        "id": "tETeJ9x8nWLC"
      },
      "source": [
        "Why does this happen? Each row of data contains a mixture of details about individuals, and information about the Parish where they resided on the day of the census. The details of the Parish are taken from aggregated *Census Reports*. The following query demonstrates the repetition of Parish details. As part of the normalisation process we will create a separate table for each Parish"
      ]
    },
    {
      "cell_type": "code",
      "execution_count": null,
      "metadata": {
        "id": "obgKeXRabYeL"
      },
      "outputs": [],
      "source": [
        "census_data %>% filter(Censusref == 'HO107/2093/80/60' & H == 219) %>% select(RecID, ParID, RegDist, Parish, Population, PID)"
      ]
    },
    {
      "cell_type": "markdown",
      "metadata": {
        "id": "R6pBv3nuOZ8I"
      },
      "source": [
        "## The Parish table\n",
        "\n",
        "Here is a reminder of the columns in the data. We can see that all but one of the columns before Censusref (column 20) are related to the Parish. The one to exclude is RecID which is the unique reference for each row of data. The ParID column gives a unique ID to each Parish. To verify that the Parish table has been created correctly, we will check that there is only one row per ParID."
      ]
    },
    {
      "cell_type": "code",
      "execution_count": null,
      "metadata": {
        "id": "pTedKQiG6ITO"
      },
      "outputs": [],
      "source": [
        "colnames(census_data)"
      ]
    },
    {
      "cell_type": "markdown",
      "metadata": {
        "id": "081P8C4ufZGy"
      },
      "source": [
        "The **distinct** function in dplyr returns all unique combinations of the columns named in the parentheses. We use this to create a new table called **parish_return**. If we select the right columns then each ParID will appear on only one row. We will run a query at the end to check this. The checking query counts records by ParID and then returns (via **filter**) the ones with a count greater than 1. It should return no rows."
      ]
    },
    {
      "cell_type": "code",
      "execution_count": null,
      "metadata": {
        "id": "w4Bp6nCDcOFa"
      },
      "outputs": [],
      "source": [
        "parish_return <- get_parish_return_table(census_data)\n",
        "\n",
        "# Perform the check here\n",
        "parish_return %>% group_by(ParID) %>% summarise(n = n()) %>% filter(n > 1)"
      ]
    },
    {
      "cell_type": "markdown",
      "source": [
        "If you wish to see the code which produces this table just print out the get_parish_return_table, as follows"
      ],
      "metadata": {
        "id": "aGHX8IQwejmC"
      }
    },
    {
      "cell_type": "code",
      "source": [
        "get_parish_return_table"
      ],
      "metadata": {
        "id": "XYuGhLw1erBS"
      },
      "execution_count": null,
      "outputs": []
    },
    {
      "cell_type": "markdown",
      "metadata": {
        "id": "W6Bm9S2u2iQy"
      },
      "source": [
        "Next we compare the total population with the numbers of rows in the data."
      ]
    },
    {
      "cell_type": "code",
      "execution_count": null,
      "metadata": {
        "id": "1sS7kbAtcelo"
      },
      "outputs": [],
      "source": [
        "paste0(\"Data rows: \",nrow(census_data))\n",
        "paste0(\"\")\n",
        "parish_return %>% summarise(Population = sum(Population))"
      ]
    },
    {
      "cell_type": "markdown",
      "metadata": {
        "id": "2TaQHWmg2q0-"
      },
      "source": [
        "They are different! Before investigating the data we should consider why this might be. The Population figures are not derived directly from this data but are instead taken from the census reports. So it should not be entirely unexpected to find some discrepancies in the data. We can quantify the difference as a percentage, which shows that the number of detail rows in the data is 99.8% of the population total.\n",
        "\n",
        "Summarising by individual Parish gives a more nuanced view, and we see that in some cases the record count (the 'n' column) is greater than the Population value, while in Pilton it is markedly lower (33.7%). The two figures are never identical. The Population column provides the official total but the differing figures derived from the detail records suggest care should be taken when using those for population level statistics."
      ]
    },
    {
      "cell_type": "code",
      "source": [
        "census_data %>% filter(ParID == 9481) %>% group_by(Sex) %>% summarise(n = n())"
      ],
      "metadata": {
        "id": "LNl9DC86sKOZ"
      },
      "execution_count": null,
      "outputs": []
    },
    {
      "cell_type": "code",
      "execution_count": null,
      "metadata": {
        "id": "VTm3cOzndSnz"
      },
      "outputs": [],
      "source": [
        "census_data %>%\n",
        " group_by(ParID) %>%\n",
        " summarise(census_rows = n()) %>%\n",
        " inner_join(parish_return, by = 'ParID') %>%\n",
        " select(ParID, Parish, census_rows, Population) %>%\n",
        " filter(Population != census_rows) %>% mutate(pct = (census_rows/Population)*100) "
      ]
    },
    {
      "cell_type": "markdown",
      "metadata": {
        "id": "znJcYhnLIyWo"
      },
      "source": [
        "Another difference worth highlighting is that the Population value is the total of the MalePop and FemalePop values. However, in the detail records we have three possible values for Sex: M, F, U."
      ]
    },
    {
      "cell_type": "code",
      "execution_count": null,
      "metadata": {
        "id": "_fpwDiGelwPL"
      },
      "outputs": [],
      "source": [
        "parish_return %>% summarise(MalePop = sum(MalePop), FemalePop = sum(FemalePop), TotalPop = sum(Population))"
      ]
    },
    {
      "cell_type": "markdown",
      "metadata": {
        "id": "MBgEpMFKJNoL"
      },
      "source": [
        "We could continue the normalisation process by creating separate tables for Districts and SubDistricts, but for the purpose of this workshop we will keep these in the Parish table."
      ]
    },
    {
      "cell_type": "markdown",
      "metadata": {
        "id": "02Fkxi2yJxRz"
      },
      "source": [
        "## Household table\n",
        "\n",
        "The next step of normalisation will be to look at households. Here is another reminder of the available columns."
      ]
    },
    {
      "cell_type": "code",
      "execution_count": null,
      "metadata": {
        "id": "zwvjdIiWLhqy"
      },
      "outputs": [],
      "source": [
        "colnames(census_data)"
      ]
    },
    {
      "cell_type": "markdown",
      "metadata": {
        "id": "ZHOjN4y2PWHC"
      },
      "source": [
        "A household is identified by the H column which is unique for each Parish. We will therefore create a unique identifier which is a combination of ParID and H by concatenating them together, separated by an underscore. The paste0 function in R will achieve this, and we will call the new column H_ID. The remainder of the columns selected should once again result in one row per H_ID.\n",
        "\n",
        "The columns H_Sex, H_Age, H_Occ, H_CFU all relate to the head of the household. HSS is a code which describes the make up of the household. tn_CFUs counts the number of Conjugal Family Units (CFUs) in the household. More on those in the next section.\n",
        "\n",
        "We are also adding a new column called H_Age_Band which will round the age down to the nearest 5 (e.g. 37 becomes 35; interpret 35 as 35-39).\n",
        "The distinct function is used again and a new table ew51_household is created. As with the Parish data, we will check no H_ID appears more than once."
      ]
    },
    {
      "cell_type": "code",
      "execution_count": null,
      "metadata": {
        "id": "32F8L_hhBEft"
      },
      "outputs": [],
      "source": [
        "census_household <- get_household_table(census_data)\n",
        "\n",
        "# Check for duplicate H_IDs\n",
        "census_household %>% group_by(H_ID) %>% summarise(n = n()) %>% filter(n > 1)"
      ]
    },
    {
      "cell_type": "markdown",
      "source": [
        "To see how the household table is created run this cell"
      ],
      "metadata": {
        "id": "VBTIgKKLzMzK"
      }
    },
    {
      "cell_type": "code",
      "source": [
        "get_household_table"
      ],
      "metadata": {
        "id": "psHt0AzszSkd"
      },
      "execution_count": null,
      "outputs": []
    },
    {
      "cell_type": "markdown",
      "metadata": {
        "id": "Mbzl_l39XGYO"
      },
      "source": [
        "Using this table we can count households and see the gender breakdown of household heads - just over 16% are female."
      ]
    },
    {
      "cell_type": "code",
      "execution_count": null,
      "metadata": {
        "id": "q53e8sL_XPaJ"
      },
      "outputs": [],
      "source": [
        "census_household %>% summarise(Households = n())\n",
        "households <- nrow(census_household)\n",
        "paste0('')\n",
        "census_household %>% group_by(H_Sex) %>% summarise(n = n(), pct = 100*n()/households)\n"
      ]
    },
    {
      "cell_type": "markdown",
      "metadata": {
        "id": "5EIhcSe9eOAX"
      },
      "source": [
        "### Ages of heads of households\n",
        "\n",
        "More interestingly, we can compare the age bands between genders. The 'U' value has been filtered out for clarity of visualisation. The chart shows a clear difference in age distribution between the sexes, with Female heads of households being on average much older than their male counterparts. This is expected as female heads of household were generally widows."
      ]
    },
    {
      "cell_type": "code",
      "execution_count": null,
      "metadata": {
        "id": "0qDib_BIeM7Q"
      },
      "outputs": [],
      "source": [
        "census_household %>%\n",
        "    filter(H_Sex != 'U') %>% \n",
        "    group_by(H_Sex, H_Age_Band) %>% \n",
        "    summarise(n = n()) %>% \n",
        "    mutate(pct = n/sum(n)) %>%\n",
        "        ggplot + geom_bar(aes(x = H_Age_Band, y = pct, fill = H_Sex), stat='identity', position = 'dodge') +\n",
        "            scale_fill_manual(values = c(\"#112E51\", \"#78909C\")) + scale_x_continuous(breaks = seq(0, 100, by = 5))"
      ]
    },
    {
      "cell_type": "markdown",
      "metadata": {
        "id": "HO3rjE2IfNwA"
      },
      "source": [
        "### Occupations of heads of households\n",
        "\n",
        "To confirm this we will need to bring in a lookup table for occupations. The I-CeM documentation includes tables of encoded values and their descriptions, but I-CeM also provides spreadsheet versions of these tables. The occode_lookup.tsv file hosted in the workshop Github repository is one such example. At the beginning of the notebook it was loaded into a table called occode_lookup. We will use this lookup to visualise occupations for heads of households, split by gender.\n",
        "\n",
        "The code for this visualisation is more involved than we've seen so far. "
      ]
    },
    {
      "cell_type": "markdown",
      "metadata": {
        "id": "Jm6D3xxePX-m"
      },
      "source": [
        "The query is split into four parts for clarity but could be merged into one. Here is a summary of the stages, but for a fuller explanation and to see the code expand the hidden section.\n",
        "\n",
        "The stages are:\n",
        "\n",
        "\n",
        "1.   Find the top 5 occupations by sex ('U' filtered out)\n",
        "2.   Find all households where the head matches that list on gender and occupation code. Get the Level 3 descriptions from the lookup table.\n",
        "3.   Summarise the records by sex, age band and description. For each sex/description combination calculate the proportion of the total count (for the combination) for each age band.\n",
        "4.   Visualise in a bar chart for each gender. Each bar shows the age band proportion using a blue to red colour scale.\n",
        "\n",
        "Discussion will follow the bar chart.\n",
        "\n"
      ]
    },
    {
      "cell_type": "markdown",
      "metadata": {
        "id": "X1-oeKamnOTE"
      },
      "source": [
        "Stage 1: Get most common occupations by gender"
      ]
    },
    {
      "cell_type": "code",
      "execution_count": null,
      "metadata": {
        "id": "CQvSZ138nTvg"
      },
      "outputs": [],
      "source": [
        "top_n_occodes <- census_household %>% \n",
        "    filter(!is.na(H_Occ)) %>% \n",
        "    filter(H_Sex != 'U') %>%\n",
        "    filter(!is.na(H_Age) & H_Age >= 18) %>%\n",
        "    group_by(H_Sex, H_Occ) %>% \n",
        "    summarise(count=n()) %>% \n",
        "    slice_max(order_by = count, n = 5) %>%\n",
        "    mutate(pct = count/sum(count))"
      ]
    },
    {
      "cell_type": "markdown",
      "metadata": {
        "id": "8SeVktVtnWWr"
      },
      "source": [
        "Stage 2: Records with most common occupations"
      ]
    },
    {
      "cell_type": "code",
      "execution_count": null,
      "metadata": {
        "id": "L1LP7Xgjncas"
      },
      "outputs": [],
      "source": [
        "top_n_descriptions <- top_n_occodes %>%\n",
        "  inner_join(census_household, by = c('H_Sex','H_Occ')) %>%\n",
        "  select(H_Occ, H_Sex, H_Age_Band) %>%\n",
        "  inner_join(occode_lookup, by = c('H_Occ' = 'Occode')) %>%\n",
        "  mutate(description = str_wrap(paste0(Level3,\" (\", H_Occ, \")\"), 20))"
      ]
    },
    {
      "cell_type": "markdown",
      "metadata": {
        "id": "Q6Hn5gnhngdA"
      },
      "source": [
        "Stage 3: Summarise the records by sex, age band and description"
      ]
    },
    {
      "cell_type": "code",
      "execution_count": null,
      "metadata": {
        "id": "_FQ8m8rKoATn"
      },
      "outputs": [],
      "source": [
        "h_sex_age_occ_summary <- top_n_descriptions %>%\n",
        "  group_by(H_Sex, H_Age_Band, description) %>% \n",
        "  summarise(age_count = n()) %>%\n",
        "  mutate(age_pct = age_count/sum(age_count)) "
      ]
    },
    {
      "cell_type": "markdown",
      "metadata": {
        "id": "6gdqQrRgoC_U"
      },
      "source": [
        "Stage 4: Visualise bar chart"
      ]
    },
    {
      "cell_type": "code",
      "execution_count": null,
      "metadata": {
        "id": "-juTZAtFviVn"
      },
      "outputs": [],
      "source": [
        "h_sex_age_occ_summary  %>%\n",
        " ggplot(aes(x=description, y=age_pct, fill = H_Age_Band))  +\n",
        " coord_flip() + facet_wrap(facets = vars(H_Sex)) +\n",
        " geom_bar(stat='identity')  +\n",
        "  scale_fill_gradient2(low=\"blue\", mid = \"white\", high=\"red\", midpoint = 50, na.value = \"grey\", limits = c(15, 90)) + \n",
        "   theme(axis.title.x=element_blank(),\n",
        "        axis.text.x=element_blank(),\n",
        "        axis.ticks.x=element_blank())"
      ]
    },
    {
      "cell_type": "markdown",
      "metadata": {
        "id": "W_6i_9Oxoaj1"
      },
      "source": [
        "There are a number of interesting patterns evident in the chart. Here we discuss a few of them:\n",
        "\n",
        "\n",
        "On the female side:\n",
        "\n",
        "*   The majority of women are classed as not working (widows, no occupation) or supported by private means. Their ages are skewed towards older age groups.\n",
        "*   The employed women are either farmers/graziers or supporting their husbands' occupations. The latter group are generally in the younger age groups.\n",
        "\n",
        "On the male side:\n",
        "\n",
        "*   A high percentage of Shoe and boot makers/repairers have no age. That would be worthy of further investigation in the data.\n",
        "*   Farmers/Graziers are skewed towards older ages, while farm labourers are slightly skewed towards the younger age bands.\n",
        "\n"
      ]
    },
    {
      "cell_type": "markdown",
      "source": [
        "This is an opportunity to explore the mappings of textual occupation values to their encoded values. If we choose Occode 778 which stands for Private Means we see the range of values that are considered to have that meaning. Annuitant (including an alternative spelling) is by far the highest, but we also see values such as fund holder, and proprietor of houses. This demonstrates the value of the encodings but also the challenges in defining the mappings.\n",
        "\n",
        "Note: the Occodes in the chart above are in brackets after the descriptions. Feel free to try other values in the query."
      ],
      "metadata": {
        "id": "b9QTe2EM5O3z"
      }
    },
    {
      "cell_type": "code",
      "source": [
        "census_data %>% \n",
        "    filter(Occode == 778 & Sex == 'F') %>%\n",
        "     group_by(Occ) %>% \n",
        "     summarise(n = n()) %>% \n",
        "     arrange(-n) %>% \n",
        "     head(10)"
      ],
      "metadata": {
        "id": "KNRveGfM4dFU"
      },
      "execution_count": null,
      "outputs": []
    },
    {
      "cell_type": "markdown",
      "metadata": {
        "id": "HfeImQe6m-ib"
      },
      "source": [
        "## Conjugal Family Units (CFU)"
      ]
    },
    {
      "cell_type": "markdown",
      "metadata": {
        "id": "U4DSx3MB7kPL"
      },
      "source": [
        "The Conjugal Family Unit (CFU) is used to group together members of the same biological family. The I-CeM User Guide lists three ways in which a CFU is formed:\n",
        "\n",
        "*   by married couples without offspring\n",
        "*   by a married couple with never-married offspring and/or never-married adopted/foster children\n",
        "*   by a lone parent with at least one never-married child\n",
        "\n",
        "A household may contain multiple CFUs and members of the household who are not part of a CFU are given a CFU of 0 (zero). Members of the first CFU (generally including the head, if they meet the criteria) get a CFU value of 1, the second CFU is value 2, and so on (although beyond 2 is probably rare)."
      ]
    },
    {
      "cell_type": "markdown",
      "metadata": {
        "id": "aP1T9DWFTxqf"
      },
      "source": [
        "### Unit table\n",
        "\n",
        "We will build separate tables for CFUs and household members who are not in a CFU. These tables will then be merged into one table which will be called household_unit"
      ]
    },
    {
      "cell_type": "code",
      "execution_count": null,
      "metadata": {
        "id": "cvaIOwBShqXZ"
      },
      "outputs": [],
      "source": [
        "household_unit <- get_unit_table(census_data)"
      ]
    },
    {
      "cell_type": "markdown",
      "metadata": {
        "id": "wtzzhMcJbVaH"
      },
      "source": [
        "### Person table\n",
        "\n",
        "Before we start analysing the unit table we will create a table for people. It will make analysis more pleasant if we trim some columns first. Since the source data is already at the level of the individual the RecId would usually suffice as a unique person id. However, the next stage will be easier with a constructed Id which will be called PersonID to distinguish it from the PID.\n",
        "\n",
        "We will also create household and unit Ids in order to provide a link back to the tables that have just been created. Usually when normalising data we wouldn't put the H_ID in this table and retrieve it from the appropriate Unit record. However, for the sake of pragmatism and fewer joins we will include it."
      ]
    },
    {
      "cell_type": "code",
      "execution_count": null,
      "metadata": {
        "id": "sBzM-_uQeBRq"
      },
      "outputs": [],
      "source": [
        "census_person <- get_person_table(census_data)"
      ]
    },
    {
      "cell_type": "markdown",
      "source": [
        "If you wish to see the code of the get_person_table function run the next cell"
      ],
      "metadata": {
        "id": "Phqu6eB6zLSI"
      }
    },
    {
      "cell_type": "code",
      "source": [
        "get_person_table"
      ],
      "metadata": {
        "id": "uzonT70AzG02"
      },
      "execution_count": null,
      "outputs": []
    },
    {
      "cell_type": "markdown",
      "metadata": {
        "id": "aJSh_G7igNrG"
      },
      "source": [
        "### Relation table\n",
        "\n",
        "Finally we create a table of immediate family relations (spouse, father, mother, child). This will be achieved in two stages.\n",
        "\n",
        "The first stage will use a function of dplyr which enables Tidy Data principles to be followed. Rather than separate columns for Spouse, Father, Mother, there should be a single column for the relationship, and one for the Id of the relation.\n",
        "\n",
        "dplyr provides the pivot_longer function to achieve this transformation. The function is passed a list of column names which will become the values in a single column we will call 'relation'. The PIDs currently held in the columns will be moved to a column called RelID.\n",
        "\n",
        "For example, if the value in the Spouse column is 2, a row will be created with the value 'Spouse' in the relation column, and 2 in the RelID column.\n",
        "\n",
        "In order to facilitate joining back to the person table we will then concatenate the H_ID to the RelID value, so that their construction matches that of the PersonID.\n",
        "\n",
        "The second stage is to reverse the Mother/Father relations to create Child relations. A summary of the resulting table is output at the end."
      ]
    },
    {
      "cell_type": "code",
      "execution_count": null,
      "metadata": {
        "id": "xVeNEVZcfUrU"
      },
      "outputs": [],
      "source": [
        "person_relation <- get_relation_table(census_data)"
      ]
    },
    {
      "cell_type": "markdown",
      "source": [
        "### Data integrity checks\n",
        "\n",
        "We would expect the UNIT_ID to be unique for each row in the Unit table. However, the query to check this returns 6 rows."
      ],
      "metadata": {
        "id": "gJsQl_SDY3YI"
      }
    },
    {
      "cell_type": "code",
      "execution_count": null,
      "metadata": {
        "id": "LwTUHj9Nu5Ax"
      },
      "outputs": [],
      "source": [
        "household_unit %>% group_by(UNIT_ID) %>% summarise(n = n()) %>% filter(n > 1)"
      ]
    },
    {
      "cell_type": "markdown",
      "source": [
        "We can use the new Person table to examine a household - remove the \"_1\" from the end of one of the UNIT_IDs to get the H_ID.\n",
        "\n",
        "The H_ID=9475_56 example shows a household containing two families. There's the head of the family and his wife and son, and then there is a lodger with his wife and daughter. If we also look in the Unit table there is one CFU of size 6 but two different HHD values.\n",
        "\n",
        "Using the Relation table we also find that while person 5 is correctly stated as the Spouse of person 4, their daughter has person 1 (the head) as her father. Having checked the original census record this is incorrect. There is obviously something in the records which has caused a breakdown of the logic in deriving family units. These 6 records may represent a small percentage of similar situations but it highlights why it is worth building integrity checks into any process which involves data reformatting, and it also shows that we should always check derived values."
      ],
      "metadata": {
        "id": "KpeZWvq7d1Ew"
      }
    },
    {
      "cell_type": "code",
      "execution_count": null,
      "metadata": {
        "id": "DAQyz7-KU3qO"
      },
      "outputs": [],
      "source": [
        "census_person %>% filter(H_ID == '1851_9475_56') %>% print\n",
        "\n",
        "household_unit %>% filter(H_ID == '1851_9475_56')\n",
        "\n",
        "person_relation %>% filter(PersonID == '1851_9475_56_6')\n",
        "\n",
        "person_relation %>% filter(PersonID == '1851_9475_56_4')"
      ]
    },
    {
      "cell_type": "markdown",
      "source": [
        "### Querying the Unit table\n",
        "\n",
        "The CFUsize column allows us to calculate the distribution of family sizes. Note that is begins at 2, as per the definition of a CFU. The largest family has 13 members!"
      ],
      "metadata": {
        "id": "d0kUSSUojJsv"
      }
    },
    {
      "cell_type": "code",
      "execution_count": null,
      "metadata": {
        "id": "65XB6azhjP3e"
      },
      "outputs": [],
      "source": [
        "household_unit %>% filter(IS_CFU == TRUE) %>% group_by(CFUsize) %>% summarise(n = n())"
      ]
    },
    {
      "cell_type": "markdown",
      "source": [
        "Here are the members of the largest family unit"
      ],
      "metadata": {
        "id": "x-7d8uDzkVWu"
      }
    },
    {
      "cell_type": "code",
      "source": [
        "household_unit %>% filter(IS_CFU == TRUE & CFUsize == 13)\n",
        "\n",
        "census_person %>% filter(H_ID == '1851_9495_337') %>% print(n=15)"
      ],
      "metadata": {
        "id": "5q125JDAh0gE"
      },
      "execution_count": null,
      "outputs": []
    },
    {
      "cell_type": "markdown",
      "source": [
        "We can also look at the household with the most non-CFU residents. There are 36 of them in a household of 44!"
      ],
      "metadata": {
        "id": "Ri5hSlhmpKrB"
      }
    },
    {
      "cell_type": "code",
      "source": [
        "household_unit %>% filter(IS_CFU == FALSE & CFUsize == 36)\n",
        "\n",
        "census_person %>% filter(H_ID == '1851_9467_110') %>% print(n=50)"
      ],
      "metadata": {
        "id": "7ZeXxPWjo-K6"
      },
      "execution_count": null,
      "outputs": []
    },
    {
      "cell_type": "markdown",
      "source": [
        "We can also look at the Relat column (relationship to head) for non-CFUs to see who else is living in households outside of the main family. Here are the top 10 values."
      ],
      "metadata": {
        "id": "FS6Y13RUklQJ"
      }
    },
    {
      "cell_type": "code",
      "execution_count": null,
      "metadata": {
        "id": "AMH-I6s7DdgQ"
      },
      "outputs": [],
      "source": [
        "household_unit %>%\n",
        " filter(IS_CFU == FALSE) %>% \n",
        " inner_join(census_person, by = 'UNIT_ID') %>%\n",
        " group_by(Relat) %>%\n",
        " summarise(n = n()) %>%\n",
        " arrange(-n) %>% head(10)"
      ]
    },
    {
      "cell_type": "markdown",
      "metadata": {
        "id": "V_9jkwboYIo7"
      },
      "source": [
        "### Querying the Relation table\n",
        "\n",
        "Finally we will use the relations table to compare Father and Son occupations.\n",
        "This is achieved in four stages, although they're performed in one query here.\n",
        "\n",
        "\n",
        "\n",
        "1.   Identify all of the Fathers in the Relation table\n",
        "2.   Join the Fathers to the Person table to get their details (Occupation and Age)\n",
        "3.   Link the result to the Person table again to get the details of the Child, the filter to restrict the result to sons\n",
        "4.   Join twice to the occupation lookup table get the Level 3 descriptions for father and son respectively\n",
        "\n",
        "The first 3 rows of the father_son table are printed"
      ]
    },
    {
      "cell_type": "code",
      "execution_count": null,
      "metadata": {
        "id": "uYZjQDTgY8Gj"
      },
      "outputs": [],
      "source": [
        "father_son <- person_relation %>%\n",
        "    filter(relation == 'Father') %>%\n",
        "    inner_join(census_person, by = c(\"RelID\" = \"PersonID\")) %>%\n",
        "    select(FatherID = RelID, FatherOcc = Occ, FatherOccode = Occode, FatherAge = Age, SonID = PersonID) %>%\n",
        "    inner_join(census_person, by = c(\"SonID\" = \"PersonID\")) %>%\n",
        "    filter(Sex == 'M') %>%\n",
        "    select(FatherID, FatherOcc, FatherOccode, FatherAge, SonID, SonOccCode = Occode, SonAge = Age) %>%\n",
        "    inner_join(occode_lookup, by = c('FatherOccode' = 'Occode')) %>% mutate(FatherOccDesc = Level3) %>%\n",
        "    select(-Level1, -Level2, -Level3) %>%\n",
        "    inner_join(occode_lookup, by = c('SonOccCode' = 'Occode')) %>% mutate(SonOccDesc = Level3) %>%\n",
        "    select(-Level1, -Level2, -Level3)\n",
        "    \n",
        "father_son %>% head(3)"
      ]
    },
    {
      "cell_type": "markdown",
      "source": [
        "Then we create a summary grouped by father and son occupation descriptions and visualise it as a point plot - the father's occupation on the X axis, the son's on the Y axis. The points have been coloured to indicate when father and son share an occupation. Sons younger than 10 and combinations with counts under 6 are filtered out.\n",
        "\n",
        "Tip: right click on the visualisation and select \"View image in new tab\" to see it full size."
      ],
      "metadata": {
        "id": "XmqoYY-SvRwW"
      }
    },
    {
      "cell_type": "code",
      "execution_count": null,
      "metadata": {
        "id": "y63vE_3_pmDH"
      },
      "outputs": [],
      "source": [
        "options(repr.plot.width=15, repr.plot.height=10)\n",
        "\n",
        "father_son %>%\n",
        "    filter(SonAge > 9) %>%\n",
        "   group_by(FatherOccDesc, SonOccDesc) %>% summarise(count = n()) %>%\n",
        "   filter(count > 5) %>%\n",
        "   ggplot + geom_point(aes(x = str_wrap(FatherOccDesc, 30), y = str_wrap(SonOccDesc,60), size = count,\n",
        "                           colour = FatherOccDesc == SonOccDesc)) +\n",
        "   theme(axis.text.x=element_text(size=7, angle = 90, vjust = 1, hjust=1),\n",
        "         axis.text.y=element_text(size=6, angle = 0, vjust = 1, hjust=1),\n",
        "        axis.title=element_text(size=14,face=\"bold\"),\n",
        "        panel.background = element_rect(fill = 'white', colour = 'black')) +\n",
        "    scale_colour_manual(values = c(\"#003b49\", \"#dc582a\", \"#d6d2c4\")) +\n",
        "    labs(\n",
        "    x = \"Father's Occupation\",\n",
        "    y = \"Son's Occupation\",\n",
        "    colour = \"Same Occupation\",\n",
        "    size = \"Count\"\n",
        "   )\n",
        "   "
      ]
    }
  ],
  "metadata": {
    "colab": {
      "collapsed_sections": [
        "35ISmWR6RwVC"
      ],
      "name": "02 - Structuring I-CeM data for analysis.ipynb",
      "provenance": [],
      "authorship_tag": "ABX9TyOvuCtAVEUABtrv8sHKksH2",
      "include_colab_link": true
    },
    "kernelspec": {
      "display_name": "R",
      "name": "ir"
    },
    "language_info": {
      "name": "R"
    }
  },
  "nbformat": 4,
  "nbformat_minor": 0
}